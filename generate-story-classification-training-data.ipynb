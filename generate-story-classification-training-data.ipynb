{
 "cells": [
  {
   "cell_type": "code",
   "execution_count": 2,
   "metadata": {},
   "outputs": [
    {
     "name": "stdout",
     "output_type": "stream",
     "text": [
      "Loading from cache\n"
     ]
    },
    {
     "data": {
      "text/plain": [
       "(38109500, 14)"
      ]
     },
     "execution_count": 2,
     "metadata": {},
     "output_type": "execute_result"
    }
   ],
   "source": [
    "import os\n",
    "import polars as pl\n",
    "\n",
    "if os.path.isfile(\"data/hn.parquet\"):\n",
    "    print(\"Loading from cache\")\n",
    "    hn = pl.read_parquet(\"data/hn.parquet\")\n",
    "else:\n",
    "    from datasets import load_dataset\n",
    "\n",
    "    hn: pl.DataFrame = pl.from_pandas(\n",
    "        load_dataset(\"OpenPipe/hacker-news\")[\"train\"].to_pandas()\n",
    "    )\n",
    "    hn.write_parquet(\"data/hn.parquet\")\n",
    "\n",
    "hn.shape"
   ]
  },
  {
   "cell_type": "code",
   "execution_count": 10,
   "metadata": {},
   "outputs": [
    {
     "name": "stdout",
     "output_type": "stream",
     "text": [
      "Number of stories: 285603\n"
     ]
    },
    {
     "data": {
      "text/html": [
       "<div><style>\n",
       ".dataframe > thead > tr > th,\n",
       ".dataframe > tbody > tr > td {\n",
       "  text-align: right;\n",
       "  white-space: pre-wrap;\n",
       "}\n",
       "</style>\n",
       "<small>shape: (5, 14)</small><table border=\"1\" class=\"dataframe\"><thead><tr><th>id</th><th>type</th><th>by</th><th>time</th><th>title</th><th>text</th><th>url</th><th>score</th><th>parent</th><th>top_level_parent</th><th>descendants</th><th>kids</th><th>deleted</th><th>dead</th></tr><tr><td>i64</td><td>str</td><td>str</td><td>datetime[μs]</td><td>str</td><td>str</td><td>str</td><td>f64</td><td>f64</td><td>i64</td><td>f64</td><td>list[i64]</td><td>bool</td><td>bool</td></tr></thead><tbody><tr><td>38107297</td><td>&quot;story&quot;</td><td>&quot;kristianpaul&quot;</td><td>2023-11-02 00:26:02</td><td>&quot;NASA+: Our New…</td><td>null</td><td>&quot;https://www.na…</td><td>53.0</td><td>null</td><td>38107297</td><td>11.0</td><td>[38109407, 38109358, … 38108262]</td><td>null</td><td>null</td></tr><tr><td>38107413</td><td>&quot;story&quot;</td><td>&quot;bexsella&quot;</td><td>2023-11-02 00:39:42</td><td>&quot;High-level emu…</td><td>null</td><td>&quot;https://github…</td><td>66.0</td><td>null</td><td>38107413</td><td>28.0</td><td>[38107957, 38108038, … 38108658]</td><td>null</td><td>null</td></tr><tr><td>38107537</td><td>&quot;story&quot;</td><td>&quot;lxm&quot;</td><td>2023-11-02 00:55:32</td><td>&quot;As child care …</td><td>null</td><td>&quot;https://www.cb…</td><td>80.0</td><td>null</td><td>38107537</td><td>145.0</td><td>[38108043, 38108132, … 38108475]</td><td>null</td><td>null</td></tr><tr><td>38107711</td><td>&quot;story&quot;</td><td>&quot;lagniappe&quot;</td><td>2023-11-02 01:16:22</td><td>&quot;Window-swap – …</td><td>null</td><td>&quot;https://www.wi…</td><td>74.0</td><td>null</td><td>38107711</td><td>22.0</td><td>[38108389, 38108527, … 38108699]</td><td>null</td><td>null</td></tr><tr><td>38108873</td><td>&quot;story&quot;</td><td>&quot;g42gregory&quot;</td><td>2023-11-02 04:05:21</td><td>&quot;Yann LeCun: AI…</td><td>null</td><td>&quot;https://www.bu…</td><td>59.0</td><td>null</td><td>38108873</td><td>28.0</td><td>[38109384, 38109151, … 38109307]</td><td>null</td><td>null</td></tr></tbody></table></div>"
      ],
      "text/plain": [
       "shape: (5, 14)\n",
       "┌──────────┬───────┬──────────────┬──────────────┬───┬─────────────┬──────────────┬─────────┬──────┐\n",
       "│ id       ┆ type  ┆ by           ┆ time         ┆ … ┆ descendants ┆ kids         ┆ deleted ┆ dead │\n",
       "│ ---      ┆ ---   ┆ ---          ┆ ---          ┆   ┆ ---         ┆ ---          ┆ ---     ┆ ---  │\n",
       "│ i64      ┆ str   ┆ str          ┆ datetime[μs] ┆   ┆ f64         ┆ list[i64]    ┆ bool    ┆ bool │\n",
       "╞══════════╪═══════╪══════════════╪══════════════╪═══╪═════════════╪══════════════╪═════════╪══════╡\n",
       "│ 38107297 ┆ story ┆ kristianpaul ┆ 2023-11-02   ┆ … ┆ 11.0        ┆ [38109407,   ┆ null    ┆ null │\n",
       "│          ┆       ┆              ┆ 00:26:02     ┆   ┆             ┆ 38109358, …  ┆         ┆      │\n",
       "│          ┆       ┆              ┆              ┆   ┆             ┆ 38108262]    ┆         ┆      │\n",
       "│ 38107413 ┆ story ┆ bexsella     ┆ 2023-11-02   ┆ … ┆ 28.0        ┆ [38107957,   ┆ null    ┆ null │\n",
       "│          ┆       ┆              ┆ 00:39:42     ┆   ┆             ┆ 38108038, …  ┆         ┆      │\n",
       "│          ┆       ┆              ┆              ┆   ┆             ┆ 38108658]    ┆         ┆      │\n",
       "│ 38107537 ┆ story ┆ lxm          ┆ 2023-11-02   ┆ … ┆ 145.0       ┆ [38108043,   ┆ null    ┆ null │\n",
       "│          ┆       ┆              ┆ 00:55:32     ┆   ┆             ┆ 38108132, …  ┆         ┆      │\n",
       "│          ┆       ┆              ┆              ┆   ┆             ┆ 38108475]    ┆         ┆      │\n",
       "│ 38107711 ┆ story ┆ lagniappe    ┆ 2023-11-02   ┆ … ┆ 22.0        ┆ [38108389,   ┆ null    ┆ null │\n",
       "│          ┆       ┆              ┆ 01:16:22     ┆   ┆             ┆ 38108527, …  ┆         ┆      │\n",
       "│          ┆       ┆              ┆              ┆   ┆             ┆ 38108699]    ┆         ┆      │\n",
       "│ 38108873 ┆ story ┆ g42gregory   ┆ 2023-11-02   ┆ … ┆ 28.0        ┆ [38109384,   ┆ null    ┆ null │\n",
       "│          ┆       ┆              ┆ 04:05:21     ┆   ┆             ┆ 38109151, …  ┆         ┆      │\n",
       "│          ┆       ┆              ┆              ┆   ┆             ┆ 38109307]    ┆         ┆      │\n",
       "└──────────┴───────┴──────────────┴──────────────┴───┴─────────────┴──────────────┴─────────┴──────┘"
      ]
     },
     "metadata": {},
     "output_type": "display_data"
    }
   ],
   "source": [
    "from datetime import datetime\n",
    "\n",
    "stories = hn.filter(\n",
    "    (pl.col(\"type\") == \"story\")\n",
    "    & (pl.col(\"text\").is_null())\n",
    "    & (pl.col(\"url\").is_not_null())\n",
    "    & (pl.col(\"score\") >= 30)\n",
    "    & (pl.col(\"descendants\") >= 5)\n",
    "    & (pl.col(\"time\") >= datetime(2010, 1, 1))\n",
    ")\n",
    "\n",
    "print(f\"Number of stories: {stories.height}\")\n",
    "display(stories.sort(\"time\").tail(5))"
   ]
  },
  {
   "cell_type": "code",
   "execution_count": 4,
   "metadata": {},
   "outputs": [
    {
     "data": {
      "image/png": "[encoded data removed]",
      "text/plain": [
       "<Figure size 640x480 with 2 Axes>"
      ]
     },
     "metadata": {},
     "output_type": "display_data"
    }
   ],
   "source": [
    "import seaborn as sns\n",
    "import matplotlib.pyplot as plt\n",
    "\n",
    "scores = (\n",
    "    stories.sort(by=\"time\")\n",
    "    .group_by_dynamic(\"time\", every=\"1mo\", period=\"1mo\")\n",
    "    .agg(\n",
    "        [\n",
    "            pl.count(),\n",
    "            pl.sum(\"score\"),\n",
    "        ]\n",
    "    )\n",
    ")\n",
    "\n",
    "ax1 = sns.lineplot(data=scores, x=\"time\", y=\"count\", label=\"Posts\")\n",
    "\n",
    "ax2 = ax1.twinx()\n",
    "\n",
    "sns.lineplot(data=scores, x=\"time\", y=\"score\", ax=ax2, color=\"r\", label=\"Upvotes\")\n",
    "\n",
    "ax1.set_ylim(0, None)\n",
    "ax2.set_ylim(0, None)\n",
    "\n",
    "# Handle lines and their labels\n",
    "lines, labels = ax1.get_legend_handles_labels()\n",
    "lines2, labels2 = ax2.get_legend_handles_labels()\n",
    "\n",
    "# Combine them\n",
    "ax1.legend().remove()\n",
    "ax2.legend(lines + lines2, labels + labels2, loc=0)\n",
    "\n",
    "# increase dpi when displaying in jupyter\n",
    "plt.rcParams[\"figure.dpi\"] = 300\n",
    "\n",
    "plt.show()"
   ]
  },
  {
   "cell_type": "code",
   "execution_count": 11,
   "metadata": {},
   "outputs": [
    {
     "data": {
      "text/plain": [
       "(285603, 15)"
      ]
     },
     "execution_count": 11,
     "metadata": {},
     "output_type": "execute_result"
    }
   ],
   "source": [
    "id_to_text = hn[[\"id\", \"text\"]].to_pandas().set_index(\"id\", drop=True)\n",
    "\n",
    "stories = stories.with_columns(\n",
    "    pl.col(\"kids\")\n",
    "    .map_elements(\n",
    "        lambda kids: None if kids.is_empty() else id_to_text.iloc[kids[0]][\"text\"]\n",
    "    )\n",
    "    .alias(\"top_comment\")\n",
    ")\n",
    "\n",
    "stories.shape"
   ]
  },
  {
   "cell_type": "code",
   "execution_count": 12,
   "metadata": {},
   "outputs": [],
   "source": [
    "stories.write_parquet(\"data/stories.parquet\")"
   ]
  },
  {
   "cell_type": "code",
   "execution_count": 5,
   "metadata": {},
   "outputs": [
    {
     "data": {
      "text/html": [
       "<div><style>\n",
       ".dataframe > thead > tr > th,\n",
       ".dataframe > tbody > tr > td {\n",
       "  text-align: right;\n",
       "  white-space: pre-wrap;\n",
       "}\n",
       "</style>\n",
       "<small>shape: (5, 15)</small><table border=\"1\" class=\"dataframe\"><thead><tr><th>id</th><th>type</th><th>by</th><th>time</th><th>title</th><th>text</th><th>url</th><th>score</th><th>parent</th><th>top_level_parent</th><th>descendants</th><th>kids</th><th>deleted</th><th>dead</th><th>top_comment</th></tr><tr><td>i64</td><td>str</td><td>str</td><td>datetime[μs]</td><td>str</td><td>str</td><td>str</td><td>f64</td><td>f64</td><td>i64</td><td>f64</td><td>list[i64]</td><td>bool</td><td>bool</td><td>str</td></tr></thead><tbody><tr><td>11369756</td><td>&quot;story&quot;</td><td>&quot;based2&quot;</td><td>2016-03-27 12:30:43</td><td>&quot;Dimple: An obj…</td><td>null</td><td>&quot;http://dimplej…</td><td>150.0</td><td>null</td><td>11369756</td><td>31.0</td><td>[11372346, 11372145, … 11374740]</td><td>null</td><td>null</td><td>&quot;&lt;a href=&quot;https…</td></tr><tr><td>15392159</td><td>&quot;story&quot;</td><td>&quot;pritambarhate&quot;</td><td>2017-10-03 13:17:38</td><td>&quot;Matcha – A fra…</td><td>null</td><td>&quot;https://github…</td><td>320.0</td><td>null</td><td>15392159</td><td>125.0</td><td>[15392855, 15393525, … 15392780]</td><td>null</td><td>null</td><td>&quot;I think it&amp;#x2…</td></tr><tr><td>15147497</td><td>&quot;story&quot;</td><td>&quot;AlexeyBrin&quot;</td><td>2017-09-01 11:21:56</td><td>&quot;Linux desktop …</td><td>null</td><td>&quot;https://www.ne…</td><td>146.0</td><td>null</td><td>15147497</td><td>157.0</td><td>[15148786, 15148659, … 15150049]</td><td>null</td><td>null</td><td>&quot;Been running L…</td></tr><tr><td>28218892</td><td>&quot;story&quot;</td><td>&quot;gamontserrat&quot;</td><td>2021-08-18 08:39:24</td><td>&quot;Environmental …</td><td>null</td><td>&quot;https://home.c…</td><td>41.0</td><td>null</td><td>28218892</td><td>6.0</td><td>[28219635, 28219619]</td><td>null</td><td>null</td><td>&quot;I miss the sol…</td></tr><tr><td>21961416</td><td>&quot;story&quot;</td><td>&quot;Decabytes&quot;</td><td>2020-01-05 14:44:26</td><td>&quot;Torvalds&#x27; Comm…</td><td>null</td><td>&quot;https://www.ph…</td><td>34.0</td><td>null</td><td>21961416</td><td>8.0</td><td>[21962017, 21962153, … 21962130]</td><td>null</td><td>null</td><td>&quot;Active discuss…</td></tr></tbody></table></div>"
      ],
      "text/plain": [
       "shape: (5, 15)\n",
       "┌──────────┬───────┬──────────────┬──────────────┬───┬──────────────┬─────────┬──────┬─────────────┐\n",
       "│ id       ┆ type  ┆ by           ┆ time         ┆ … ┆ kids         ┆ deleted ┆ dead ┆ top_comment │\n",
       "│ ---      ┆ ---   ┆ ---          ┆ ---          ┆   ┆ ---          ┆ ---     ┆ ---  ┆ ---         │\n",
       "│ i64      ┆ str   ┆ str          ┆ datetime[μs] ┆   ┆ list[i64]    ┆ bool    ┆ bool ┆ str         │\n",
       "╞══════════╪═══════╪══════════════╪══════════════╪═══╪══════════════╪═════════╪══════╪═════════════╡\n",
       "│ 11369756 ┆ story ┆ based2       ┆ 2016-03-27   ┆ … ┆ [11372346,   ┆ null    ┆ null ┆ <a href=\"ht │\n",
       "│          ┆       ┆              ┆ 12:30:43     ┆   ┆ 11372145, …  ┆         ┆      ┆ tps:&#x2F;& │\n",
       "│          ┆       ┆              ┆              ┆   ┆ 11374740]    ┆         ┆      ┆ #x2F;dc-js… │\n",
       "│ 15392159 ┆ story ┆ pritambarhat ┆ 2017-10-03   ┆ … ┆ [15392855,   ┆ null    ┆ null ┆ I think     │\n",
       "│          ┆       ┆ e            ┆ 13:17:38     ┆   ┆ 15393525, …  ┆         ┆      ┆ it&#x27;s   │\n",
       "│          ┆       ┆              ┆              ┆   ┆ 15392780]    ┆         ┆      ┆ really      │\n",
       "│          ┆       ┆              ┆              ┆   ┆              ┆         ┆      ┆ great t…    │\n",
       "│ 15147497 ┆ story ┆ AlexeyBrin   ┆ 2017-09-01   ┆ … ┆ [15148786,   ┆ null    ┆ null ┆ Been        │\n",
       "│          ┆       ┆              ┆ 11:21:56     ┆   ┆ 15148659, …  ┆         ┆      ┆ running     │\n",
       "│          ┆       ┆              ┆              ┆   ┆ 15150049]    ┆         ┆      ┆ Linux since │\n",
       "│          ┆       ┆              ┆              ┆   ┆              ┆         ┆      ┆ 2002.<p…    │\n",
       "│ 28218892 ┆ story ┆ gamontserrat ┆ 2021-08-18   ┆ … ┆ [28219635,   ┆ null    ┆ null ┆ I miss the  │\n",
       "│          ┆       ┆              ┆ 08:39:24     ┆   ┆ 28219619]    ┆         ┆      ┆ solar       │\n",
       "│          ┆       ┆              ┆              ┆   ┆              ┆         ┆      ┆ powered     │\n",
       "│          ┆       ┆              ┆              ┆   ┆              ┆         ┆      ┆ bins wi…    │\n",
       "│ 21961416 ┆ story ┆ Decabytes    ┆ 2020-01-05   ┆ … ┆ [21962017,   ┆ null    ┆ null ┆ Active disc │\n",
       "│          ┆       ┆              ┆ 14:44:26     ┆   ┆ 21962153, …  ┆         ┆      ┆ ussion:<p>< │\n",
       "│          ┆       ┆              ┆              ┆   ┆ 21962130]    ┆         ┆      ┆ a href=\"ht… │\n",
       "└──────────┴───────┴──────────────┴──────────────┴───┴──────────────┴─────────┴──────┴─────────────┘"
      ]
     },
     "execution_count": 5,
     "metadata": {},
     "output_type": "execute_result"
    }
   ],
   "source": [
    "training_stories = stories.sample(3000, seed=42)\n",
    "\n",
    "training_stories.head(5)"
   ]
  },
  {
   "cell_type": "code",
   "execution_count": null,
   "metadata": {},
   "outputs": [
    {
     "data": {
      "text/plain": [
       "<OpenAIObject chat.completion id=chatcmpl-8GVUWw34KnXCbP02rpghPdEIu3UPa at 0x7f411659fc90> JSON: {\n",
       "  \"id\": \"chatcmpl-8GVUWw34KnXCbP02rpghPdEIu3UPa\",\n",
       "  \"object\": \"chat.completion\",\n",
       "  \"created\": 1698944992,\n",
       "  \"model\": \"gpt-4-0613\",\n",
       "  \"choices\": [\n",
       "    {\n",
       "      \"index\": 0,\n",
       "      \"message\": {\n",
       "        \"role\": \"assistant\",\n",
       "        \"content\": null,\n",
       "        \"function_call\": {\n",
       "          \"name\": \"classify\",\n",
       "          \"arguments\": \"{\\n\\\"ai_ml\\\": false,\\n\\\"crypto\\\": false,\\n\\\"remote_work\\\": false,\\n\\\"rust\\\": false\\n}\"\n",
       "        }\n",
       "      },\n",
       "      \"finish_reason\": \"stop\"\n",
       "    }\n",
       "  ],\n",
       "  \"usage\": {\n",
       "    \"prompt_tokens\": 465,\n",
       "    \"completion_tokens\": 23,\n",
       "    \"total_tokens\": 488\n",
       "  },\n",
       "  \"openpipe\": {\n",
       "    \"cache_status\": \"SKIP\"\n",
       "  }\n",
       "}"
      ]
     },
     "execution_count": 8,
     "metadata": {},
     "output_type": "execute_result"
    }
   ],
   "source": [
    "from joblib import Memory, Parallel, delayed\n",
    "import openpipe\n",
    "import os\n",
    "from dotenv import load_dotenv\n",
    "import json\n",
    "\n",
    "load_dotenv()\n",
    "\n",
    "openpipe.configure_openpipe(api_key=os.getenv(\"OPENPIPE_API_KEY\"))\n",
    "\n",
    "openpipe.openai.api_key = os.getenv(\"OPENAI_API_KEY\")\n",
    "\n",
    "memory = Memory(\"/workspace/cache\", verbose=0)\n",
    "\n",
    "\n",
    "@memory.cache\n",
    "def classify_story(row):\n",
    "    resp = openpipe.openai.ChatCompletion.create(\n",
    "        model=\"gpt-4\",\n",
    "        messages=[\n",
    "            {\n",
    "                \"role\": \"system\",\n",
    "                \"content\": \"Determine whether the HN story is likely related to any of the given subjects. Multiple subjects may apply.\",\n",
    "            },\n",
    "            {\n",
    "                \"role\": \"user\",\n",
    "                \"content\": f\"Headline: {row['title']}\\nURL: {row['url']}\\nTop comment: {row['top_comment']}\",\n",
    "            },\n",
    "        ],\n",
    "        functions=[\n",
    "            {\n",
    "                \"name\": \"classify\",\n",
    "                \"description\": \"Important: only return true for a label if the story is likely related to the subject. If it isn't related, or if you aren't sure, return false.\",\n",
    "                \"parameters\": {\n",
    "                    \"type\": \"object\",\n",
    "                    \"properties\": {\n",
    "                        \"ai_ml\": {\n",
    "                            \"type\": \"boolean\",\n",
    "                            \"description\": \"Related to AI, ML, AGI, etc.\",\n",
    "                        },\n",
    "                        \"crypto\": {\n",
    "                            \"type\": \"boolean\",\n",
    "                            \"description\": \"Related to crypto, blockchain, etc.\",\n",
    "                        },\n",
    "                        \"remote_work\": {\n",
    "                            \"type\": \"boolean\",\n",
    "                            \"description\": \"Related to remote work, WFH, etc.\",\n",
    "                        },\n",
    "                        \"rust\": {\n",
    "                            \"type\": \"boolean\",\n",
    "                            \"description\": \"Related to the Rust language.\",\n",
    "                        },\n",
    "                    },\n",
    "                    \"required\": [\"ai_ml\", \"crypto\", \"remote_work\", \"rust\"],\n",
    "                },\n",
    "            }\n",
    "        ],\n",
    "        openpipe={\"tags\": {\"prompt_id\": \"classify_hn_story_v4\"}},\n",
    "        function_call={\"name\": \"classify\"},\n",
    "    )\n",
    "    json.loads(resp.choices[0].message.function_call.arguments)\n",
    "    return resp\n",
    "\n",
    "\n",
    "classify_story(training_stories[2].to_dicts()[0])"
   ]
  },
  {
   "cell_type": "code",
   "execution_count": null,
   "metadata": {},
   "outputs": [
    {
     "name": "stderr",
     "output_type": "stream",
     "text": [
      "  0%|          | 0/3000 [00:00<?, ?it/s]"
     ]
    },
    {
     "name": "stderr",
     "output_type": "stream",
     "text": [
      "  0%|          | 1/3000 [00:00<15:07,  3.31it/s]Exception ignored in: <function _releaseLock at 0x7f42521681f0>\n",
      "Traceback (most recent call last):\n",
      "  File \"/usr/lib/python3.10/logging/__init__.py\", line 228, in _releaseLock\n",
      "    def _releaseLock():\n",
      "KeyboardInterrupt: \n",
      "  2%|▏         | 60/3000 [00:09<06:25,  7.63it/s]"
     ]
    }
   ],
   "source": [
    "from joblib import Parallel, delayed\n",
    "import tqdm\n",
    "\n",
    "\n",
    "def process_input(row):\n",
    "    try:\n",
    "        output = classify_story(row)\n",
    "    except Exception as e:\n",
    "        print(e)\n",
    "    row[\"tags\"] = json.loads(output.choices[0].message[\"function_call\"][\"arguments\"])\n",
    "\n",
    "    row[\"prompt_tokens\"] = output.usage.prompt_tokens\n",
    "    row[\"completion_tokens\"] = output.usage.completion_tokens\n",
    "    return row\n",
    "\n",
    "\n",
    "# Parallelize using joblib\n",
    "results = Parallel(n_jobs=30)(\n",
    "    delayed(process_input)(row) for row in tqdm.tqdm(training_stories.rows(named=True))\n",
    ")\n",
    "\n",
    "results = pl.DataFrame(results).unnest(\"tags\")"
   ]
  },
  {
   "cell_type": "code",
   "execution_count": null,
   "metadata": {},
   "outputs": [
    {
     "data": {
      "text/html": [
       "<div><style>\n",
       ".dataframe > thead > tr > th,\n",
       ".dataframe > tbody > tr > td {\n",
       "  text-align: right;\n",
       "  white-space: pre-wrap;\n",
       "}\n",
       "</style>\n",
       "<small>shape: (2, 2)</small><table border=\"1\" class=\"dataframe\"><thead><tr><th>rust</th><th>counts</th></tr><tr><td>bool</td><td>u32</td></tr></thead><tbody><tr><td>false</td><td>588</td></tr><tr><td>true</td><td>12</td></tr></tbody></table></div>"
      ],
      "text/plain": [
       "shape: (2, 2)\n",
       "┌───────┬────────┐\n",
       "│ rust  ┆ counts │\n",
       "│ ---   ┆ ---    │\n",
       "│ bool  ┆ u32    │\n",
       "╞═══════╪════════╡\n",
       "│ false ┆ 588    │\n",
       "│ true  ┆ 12     │\n",
       "└───────┴────────┘"
      ]
     },
     "execution_count": 13,
     "metadata": {},
     "output_type": "execute_result"
    }
   ],
   "source": [
    "results[\"rust\"].value_counts()"
   ]
  },
  {
   "cell_type": "code",
   "execution_count": null,
   "metadata": {},
   "outputs": [
    {
     "name": "stdout",
     "output_type": "stream",
     "text": [
      "{\n",
      "  \"id\": \"adcc61d4-4d91-41c0-9885-f2bc9f60d382\",\n",
      "  \"object\": \"chat.completion\",\n",
      "  \"created\": 1697603891961,\n",
      "  \"model\": \"openpipe:classify-hn-headlines\",\n",
      "  \"choices\": [\n",
      "    {\n",
      "      \"finish_reason\": \"stop\",\n",
      "      \"index\": 0,\n",
      "      \"message\": {\n",
      "        \"role\": \"assistant\",\n",
      "        \"content\": null,\n",
      "        \"function_call\": {\n",
      "          \"name\": \"classify\",\n",
      "          \"arguments\": \"{\\n\\\"rust\\\": true\\n}\"\n",
      "        }\n",
      "      }\n",
      "    }\n",
      "  ],\n",
      "  \"usage\": {\n",
      "    \"prompt_tokens\": 110,\n",
      "    \"completion_tokens\": 16,\n",
      "    \"total_tokens\": 126\n",
      "  }\n",
      "}\n"
     ]
    },
    {
     "data": {
      "text/plain": [
       "<OpenAIObject chat.completion id=adcc61d4-4d91-41c0-9885-f2bc9f60d382 at 0x7f51ef189ee0> JSON: {\n",
       "  \"id\": \"adcc61d4-4d91-41c0-9885-f2bc9f60d382\",\n",
       "  \"object\": \"chat.completion\",\n",
       "  \"created\": 1697603891961,\n",
       "  \"model\": \"openpipe:classify-hn-headlines\",\n",
       "  \"choices\": [\n",
       "    {\n",
       "      \"finish_reason\": \"stop\",\n",
       "      \"index\": 0,\n",
       "      \"message\": {\n",
       "        \"role\": \"assistant\",\n",
       "        \"content\": null,\n",
       "        \"function_call\": {\n",
       "          \"name\": \"classify\",\n",
       "          \"arguments\": \"{\\n\\\"rust\\\": true\\n}\"\n",
       "        }\n",
       "      }\n",
       "    }\n",
       "  ],\n",
       "  \"usage\": {\n",
       "    \"prompt_tokens\": 110,\n",
       "    \"completion_tokens\": 16,\n",
       "    \"total_tokens\": 126\n",
       "  },\n",
       "  \"openpipe\": {\n",
       "    \"cache_status\": \"SKIP\"\n",
       "  }\n",
       "}"
      ]
     },
     "execution_count": 1,
     "metadata": {},
     "output_type": "execute_result"
    }
   ],
   "source": [
    "import openpipe\n",
    "from dotenv import load_dotenv\n",
    "import os\n",
    "\n",
    "load_dotenv()\n",
    "\n",
    "# openpipe.configure_openpipe(\n",
    "#     api_key=os.getenv(\"OPENPIPE_API_KEY\"), base_url=\"http://localhost:3000/api/v1\"\n",
    "# )\n",
    "openpipe.configure_openpipe(api_key=os.getenv(\"OPENPIPE_API_KEY\"))\n",
    "\n",
    "await openpipe.openai.ChatCompletion.acreate(\n",
    "    model=\"openpipe:classify-hn-stories\",\n",
    "    messages=[\n",
    "        {\n",
    "            \"role\": \"system\",\n",
    "            \"content\": \"This is an HN headline and top comment. Your job is to determine whether the story is likely related to any of the given subjects. Multiple subjects may apply.\",\n",
    "        },\n",
    "        {\n",
    "            \"role\": \"user\",\n",
    "            \"content\": \"Headline: A new Rust compiler is released\\nURL: https://rust-lang.org\\nTop comment: This is a top comment about Rust.\",\n",
    "        },\n",
    "    ],\n",
    "    function_call={\"name\": \"classify\"},\n",
    ")"
   ]
  },
  {
   "cell_type": "code",
   "execution_count": null,
   "metadata": {},
   "outputs": [
    {
     "ename": "NameError",
     "evalue": "name 'training_stories' is not defined",
     "output_type": "error",
     "traceback": [
      "\u001b[0;31m---------------------------------------------------------------------------\u001b[0m",
      "\u001b[0;31mNameError\u001b[0m                                 Traceback (most recent call last)",
      "\u001b[1;32m/workspace/opipe-experiments/hn-analysis/generate-story-classification-training-data.ipynb Cell 13\u001b[0m line \u001b[0;36m6\n\u001b[1;32m     <a href='vscode-notebook-cell://ssh-remote%2Bdev1/workspace/opipe-experiments/hn-analysis/generate-story-classification-training-data.ipynb#X15sdnNjb2RlLXJlbW90ZQ%3D%3D?line=55'>56</a>\u001b[0m     json\u001b[39m.\u001b[39mloads(resp\u001b[39m.\u001b[39mchoices[\u001b[39m0\u001b[39m]\u001b[39m.\u001b[39mmessage\u001b[39m.\u001b[39mfunction_call\u001b[39m.\u001b[39marguments)\n\u001b[1;32m     <a href='vscode-notebook-cell://ssh-remote%2Bdev1/workspace/opipe-experiments/hn-analysis/generate-story-classification-training-data.ipynb#X15sdnNjb2RlLXJlbW90ZQ%3D%3D?line=56'>57</a>\u001b[0m     \u001b[39mreturn\u001b[39;00m resp\n\u001b[0;32m---> <a href='vscode-notebook-cell://ssh-remote%2Bdev1/workspace/opipe-experiments/hn-analysis/generate-story-classification-training-data.ipynb#X15sdnNjb2RlLXJlbW90ZQ%3D%3D?line=59'>60</a>\u001b[0m classify_story_with_mistral(training_stories[\u001b[39m0\u001b[39m]\u001b[39m.\u001b[39mto_dicts()[\u001b[39m0\u001b[39m])\n",
      "\u001b[0;31mNameError\u001b[0m: name 'training_stories' is not defined"
     ]
    }
   ],
   "source": [
    "import os\n",
    "from dotenv import load_dotenv\n",
    "import json\n",
    "\n",
    "load_dotenv()\n",
    "\n",
    "# configure_openpipe(api_key=os.getenv(\"OPENPIPE_API_KEY\"))\n",
    "\n",
    "# openai.api_key = os.getenv(\"OPENAI_API_KEY\")\n",
    "\n",
    "\n",
    "# @memory.cache\n",
    "def classify_story_with_mistral(row):\n",
    "    resp = openpipe.openai.ChatCompletion.create(\n",
    "        model=\"openpipe:classify-hn-headlines\",\n",
    "        messages=[\n",
    "            {\n",
    "                \"role\": \"system\",\n",
    "                \"content\": \"This is an HN headline and top comment. Your job is to determine whether the story is likely related to any of the given subjects. Multiple subjects may apply.\",\n",
    "            },\n",
    "            {\n",
    "                \"role\": \"user\",\n",
    "                \"content\": f\"Headline: {row['title']}\\nURL: {row['url']}\\nTop comment: {row['top_comment']}\",\n",
    "            },\n",
    "        ],\n",
    "        functions=[\n",
    "            {\n",
    "                \"name\": \"classify\",\n",
    "                \"description\": \"Important: only return true for a label if the story is likely related to the subject. If it isn't related, or if you aren't sure, return false.\",\n",
    "                \"parameters\": {\n",
    "                    \"type\": \"object\",\n",
    "                    \"properties\": {\n",
    "                        \"ai_ml\": {\n",
    "                            \"type\": \"boolean\",\n",
    "                            \"description\": \"Related to AI, ML, AGI, etc.\",\n",
    "                        },\n",
    "                        \"crypto\": {\n",
    "                            \"type\": \"boolean\",\n",
    "                            \"description\": \"Related to crypto, blockchain, etc.\",\n",
    "                        },\n",
    "                        \"remote_work\": {\n",
    "                            \"type\": \"boolean\",\n",
    "                            \"description\": \"Related to remote work, WFH, etc.\",\n",
    "                        },\n",
    "                        \"rust\": {\n",
    "                            \"type\": \"boolean\",\n",
    "                            \"description\": \"Related to the Rust language.\",\n",
    "                        },\n",
    "                    },\n",
    "                    \"requred\": [\"ai_ml\", \"crypto\", \"remote_work\", \"rust\"],\n",
    "                },\n",
    "            }\n",
    "        ],\n",
    "        function_call={\"name\": \"classify\"},\n",
    "    )\n",
    "    json.loads(resp.choices[0].message.function_call.arguments)\n",
    "    return resp\n",
    "\n",
    "\n",
    "classify_story_with_mistral(training_stories[0].to_dicts()[0])"
   ]
  }
 ],
 "metadata": {
  "kernelspec": {
   "display_name": "hn-analysis-9rBFKxKV-py3.10",
   "language": "python",
   "name": "python3"
  },
  "language_info": {
   "codemirror_mode": {
    "name": "ipython",
    "version": 3
   },
   "file_extension": ".py",
   "mimetype": "text/x-python",
   "name": "python",
   "nbconvert_exporter": "python",
   "pygments_lexer": "ipython3",
   "version": "3.10.12"
  }
 },
 "nbformat": 4,
 "nbformat_minor": 2
}
