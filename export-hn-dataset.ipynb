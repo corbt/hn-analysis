{
 "cells": [
  {
   "cell_type": "code",
   "execution_count": 2,
   "metadata": {},
   "outputs": [
    {
     "name": "stdout",
     "output_type": "stream",
     "text": [
      "Requirement already satisfied: polars in ./.venv/lib/python3.10/site-packages (0.19.11)\n",
      "Collecting sqlalchemy\n",
      "  Downloading SQLAlchemy-2.0.22-cp310-cp310-manylinux_2_17_x86_64.manylinux2014_x86_64.whl (3.0 MB)\n",
      "\u001b[2K     \u001b[90m━━━━━━━━━━━━━━━━━━━━━━━━━━━━━━━━━━━━━━━━\u001b[0m \u001b[32m3.0/3.0 MB\u001b[0m \u001b[31m42.2 MB/s\u001b[0m eta \u001b[36m0:00:00\u001b[0m00:01\u001b[0m00:01\u001b[0m\n",
      "\u001b[?25hCollecting greenlet!=0.4.17\n",
      "  Downloading greenlet-3.0.1-cp310-cp310-manylinux_2_24_x86_64.manylinux_2_28_x86_64.whl (613 kB)\n",
      "\u001b[2K     \u001b[90m━━━━━━━━━━━━━━━━━━━━━━━━━━━━━━━━━━━━━━\u001b[0m \u001b[32m613.2/613.2 KB\u001b[0m \u001b[31m43.6 MB/s\u001b[0m eta \u001b[36m0:00:00\u001b[0m\n",
      "\u001b[?25hRequirement already satisfied: typing-extensions>=4.2.0 in ./.venv/lib/python3.10/site-packages (from sqlalchemy) (4.8.0)\n",
      "Installing collected packages: greenlet, sqlalchemy\n",
      "Successfully installed greenlet-3.0.1 sqlalchemy-2.0.22\n"
     ]
    }
   ],
   "source": [
    "!pip install polars sqlalchemy"
   ]
  },
  {
   "cell_type": "code",
   "execution_count": 1,
   "metadata": {},
   "outputs": [
    {
     "data": {
      "text/html": [
       "<div><style>\n",
       ".dataframe > thead > tr > th,\n",
       ".dataframe > tbody > tr > td {\n",
       "  text-align: right;\n",
       "  white-space: pre-wrap;\n",
       "}\n",
       "</style>\n",
       "<small>shape: (38_109_500, 2)</small><table border=\"1\" class=\"dataframe\"><thead><tr><th>id</th><th>json</th></tr><tr><td>i64</td><td>str</td></tr></thead><tbody><tr><td>0</td><td>&quot;{&quot;id&quot;:0,&quot;delet…</td></tr><tr><td>1</td><td>&quot;{&quot;by&quot;:&quot;pg&quot;,&quot;de…</td></tr><tr><td>2</td><td>&quot;{&quot;by&quot;:&quot;phyllis…</td></tr><tr><td>3</td><td>&quot;{&quot;by&quot;:&quot;phyllis…</td></tr><tr><td>4</td><td>&quot;{&quot;by&quot;:&quot;onebeer…</td></tr><tr><td>5</td><td>&quot;{&quot;by&quot;:&quot;perler&quot;…</td></tr><tr><td>6</td><td>&quot;{&quot;by&quot;:&quot;perler&quot;…</td></tr><tr><td>7</td><td>&quot;{&quot;by&quot;:&quot;phyllis…</td></tr><tr><td>8</td><td>&quot;{&quot;by&quot;:&quot;frobnic…</td></tr><tr><td>9</td><td>&quot;{&quot;by&quot;:&quot;askjigg…</td></tr><tr><td>10</td><td>&quot;{&quot;by&quot;:&quot;frobnic…</td></tr><tr><td>11</td><td>&quot;{&quot;by&quot;:&quot;frobnic…</td></tr><tr><td>&hellip;</td><td>&hellip;</td></tr><tr><td>38109488</td><td>&quot;{&quot;by&quot;:&quot;ryandra…</td></tr><tr><td>38109489</td><td>&quot;{&quot;by&quot;:&quot;zaphirp…</td></tr><tr><td>38109490</td><td>&quot;{&quot;by&quot;:&quot;rswail&quot;…</td></tr><tr><td>38109491</td><td>&quot;{&quot;by&quot;:&quot;dotnet0…</td></tr><tr><td>38109492</td><td>&quot;{&quot;by&quot;:&quot;avindro…</td></tr><tr><td>38109493</td><td>&quot;{&quot;by&quot;:&quot;plutoh2…</td></tr><tr><td>38109494</td><td>&quot;{&quot;by&quot;:&quot;mnot&quot;,&quot;…</td></tr><tr><td>38109495</td><td>&quot;{&quot;by&quot;:&quot;pbnjay&quot;…</td></tr><tr><td>38109496</td><td>&quot;{&quot;by&quot;:&quot;canadia…</td></tr><tr><td>38109497</td><td>&quot;{&quot;by&quot;:&quot;transpu…</td></tr><tr><td>38109498</td><td>&quot;{&quot;by&quot;:&quot;Jensson…</td></tr><tr><td>38109499</td><td>&quot;{&quot;by&quot;:&quot;davchan…</td></tr></tbody></table></div>"
      ],
      "text/plain": [
       "shape: (38_109_500, 2)\n",
       "┌──────────┬───────────────────────────────────┐\n",
       "│ id       ┆ json                              │\n",
       "│ ---      ┆ ---                               │\n",
       "│ i64      ┆ str                               │\n",
       "╞══════════╪═══════════════════════════════════╡\n",
       "│ 0        ┆ {\"id\":0,\"deleted\":true}           │\n",
       "│ 1        ┆ {\"by\":\"pg\",\"descendants\":15,\"id\"… │\n",
       "│ 2        ┆ {\"by\":\"phyllis\",\"descendants\":0,… │\n",
       "│ 3        ┆ {\"by\":\"phyllis\",\"descendants\":0,… │\n",
       "│ …        ┆ …                                 │\n",
       "│ 38109496 ┆ {\"by\":\"canadianfella\",\"dead\":tru… │\n",
       "│ 38109497 ┆ {\"by\":\"transpute\",\"descendants\":… │\n",
       "│ 38109498 ┆ {\"by\":\"Jensson\",\"id\":38109498,\"p… │\n",
       "│ 38109499 ┆ {\"by\":\"davchana\",\"id\":38109499,\"… │\n",
       "└──────────┴───────────────────────────────────┘"
      ]
     },
     "execution_count": 1,
     "metadata": {},
     "output_type": "execute_result"
    }
   ],
   "source": [
    "import polars as pl\n",
    "from sqlalchemy import create_engine\n",
    "\n",
    "# read sqlite from ./data/items.db\n",
    "\n",
    "conn = create_engine(f\"sqlite:///data/items.db?immutable=1\")\n",
    "\n",
    "\n",
    "df = pl.read_database(\"select * from items order by id\", conn.connect())\n",
    "\n",
    "df"
   ]
  },
  {
   "cell_type": "code",
   "execution_count": 2,
   "metadata": {},
   "outputs": [
    {
     "name": "stdout",
     "output_type": "stream",
     "text": [
      "0\n"
     ]
    },
    {
     "name": "stdout",
     "output_type": "stream",
     "text": [
      "5000000\n",
      "10000000\n",
      "15000000\n",
      "20000000\n",
      "25000000\n",
      "30000000\n",
      "35000000\n"
     ]
    },
    {
     "data": {
      "text/html": [
       "<div><style>\n",
       ".dataframe > thead > tr > th,\n",
       ".dataframe > tbody > tr > td {\n",
       "  text-align: right;\n",
       "  white-space: pre-wrap;\n",
       "}\n",
       "</style>\n",
       "<small>shape: (38_109_500, 13)</small><table border=\"1\" class=\"dataframe\"><thead><tr><th>id</th><th>deleted</th><th>by</th><th>descendants</th><th>kids</th><th>score</th><th>time</th><th>title</th><th>type</th><th>url</th><th>parent</th><th>text</th><th>dead</th></tr><tr><td>i64</td><td>bool</td><td>str</td><td>i64</td><td>list[i64]</td><td>i64</td><td>datetime[μs]</td><td>str</td><td>str</td><td>str</td><td>i64</td><td>str</td><td>bool</td></tr></thead><tbody><tr><td>0</td><td>true</td><td>null</td><td>null</td><td>null</td><td>null</td><td>null</td><td>null</td><td>null</td><td>null</td><td>null</td><td>null</td><td>null</td></tr><tr><td>1</td><td>null</td><td>&quot;pg&quot;</td><td>15</td><td>[15, 234509, … 82729]</td><td>57</td><td>2006-10-09 18:21:51</td><td>&quot;Y Combinator&quot;</td><td>&quot;story&quot;</td><td>&quot;http://ycombin…</td><td>null</td><td>null</td><td>null</td></tr><tr><td>2</td><td>null</td><td>&quot;phyllis&quot;</td><td>0</td><td>null</td><td>16</td><td>2006-10-09 18:30:28</td><td>&quot;A Student&#x27;s Gu…</td><td>&quot;story&quot;</td><td>&quot;http://www.pau…</td><td>null</td><td>null</td><td>null</td></tr><tr><td>3</td><td>null</td><td>&quot;phyllis&quot;</td><td>0</td><td>[531602]</td><td>7</td><td>2006-10-09 18:40:33</td><td>&quot;Woz Interview:…</td><td>&quot;story&quot;</td><td>&quot;http://www.fou…</td><td>null</td><td>null</td><td>null</td></tr><tr><td>4</td><td>null</td><td>&quot;onebeerdave&quot;</td><td>0</td><td>null</td><td>5</td><td>2006-10-09 18:47:42</td><td>&quot;NYC Developer …</td><td>&quot;story&quot;</td><td>&quot;http://avc.blo…</td><td>null</td><td>null</td><td>null</td></tr><tr><td>5</td><td>null</td><td>&quot;perler&quot;</td><td>0</td><td>null</td><td>7</td><td>2006-10-09 18:51:04</td><td>&quot;Google, YouTub…</td><td>&quot;story&quot;</td><td>&quot;http://www.tec…</td><td>null</td><td>null</td><td>null</td></tr><tr><td>6</td><td>null</td><td>&quot;perler&quot;</td><td>0</td><td>null</td><td>4</td><td>2006-10-09 18:56:40</td><td>&quot;Business Intel…</td><td>&quot;story&quot;</td><td>&quot;http://360tech…</td><td>null</td><td>null</td><td>null</td></tr><tr><td>7</td><td>null</td><td>&quot;phyllis&quot;</td><td>0</td><td>null</td><td>5</td><td>2006-10-09 19:00:55</td><td>&quot;Sevin Rosen Un…</td><td>&quot;story&quot;</td><td>&quot;http://feature…</td><td>null</td><td>null</td><td>null</td></tr><tr><td>8</td><td>null</td><td>&quot;frobnicate&quot;</td><td>0</td><td>null</td><td>10</td><td>2006-10-09 19:17:39</td><td>&quot;LikeBetter fea…</td><td>&quot;story&quot;</td><td>&quot;http://news.bb…</td><td>null</td><td>null</td><td>null</td></tr><tr><td>9</td><td>null</td><td>&quot;askjigga&quot;</td><td>0</td><td>null</td><td>4</td><td>2006-10-09 19:19:02</td><td>&quot;weekendr: soci…</td><td>&quot;story&quot;</td><td>&quot;http://www.wee…</td><td>null</td><td>null</td><td>null</td></tr><tr><td>10</td><td>null</td><td>&quot;frobnicate&quot;</td><td>0</td><td>null</td><td>3</td><td>2006-10-09 19:21:14</td><td>&quot;PhotoShow: Bro…</td><td>&quot;story&quot;</td><td>&quot;http://www.tec…</td><td>null</td><td>null</td><td>null</td></tr><tr><td>11</td><td>null</td><td>&quot;frobnicate&quot;</td><td>0</td><td>null</td><td>5</td><td>2006-10-09 19:24:44</td><td>&quot;Participation …</td><td>&quot;story&quot;</td><td>&quot;http://www.use…</td><td>null</td><td>null</td><td>null</td></tr><tr><td>&hellip;</td><td>&hellip;</td><td>&hellip;</td><td>&hellip;</td><td>&hellip;</td><td>&hellip;</td><td>&hellip;</td><td>&hellip;</td><td>&hellip;</td><td>&hellip;</td><td>&hellip;</td><td>&hellip;</td><td>&hellip;</td></tr><tr><td>38109488</td><td>null</td><td>&quot;ryandrake&quot;</td><td>null</td><td>null</td><td>null</td><td>2023-11-02 05:56:46</td><td>null</td><td>&quot;comment&quot;</td><td>null</td><td>38105952</td><td>&quot;I&amp;#x27;m the o…</td><td>null</td></tr><tr><td>38109489</td><td>null</td><td>&quot;zaphirplane&quot;</td><td>null</td><td>null</td><td>null</td><td>2023-11-02 05:56:49</td><td>null</td><td>&quot;comment&quot;</td><td>null</td><td>38087883</td><td>&quot;[delayed]&quot;</td><td>null</td></tr><tr><td>38109490</td><td>null</td><td>&quot;rswail&quot;</td><td>null</td><td>null</td><td>null</td><td>2023-11-02 05:57:04</td><td>null</td><td>&quot;comment&quot;</td><td>null</td><td>38106221</td><td>&quot;In HTML, you c…</td><td>null</td></tr><tr><td>38109491</td><td>null</td><td>&quot;dotnet00&quot;</td><td>null</td><td>null</td><td>null</td><td>2023-11-02 05:57:10</td><td>null</td><td>&quot;comment&quot;</td><td>null</td><td>38109464</td><td>&quot;Or it would cr…</td><td>null</td></tr><tr><td>38109492</td><td>null</td><td>&quot;avindroth&quot;</td><td>null</td><td>null</td><td>null</td><td>2023-11-02 05:57:22</td><td>null</td><td>&quot;comment&quot;</td><td>null</td><td>38109226</td><td>&quot;Sent an email.…</td><td>null</td></tr><tr><td>38109493</td><td>null</td><td>&quot;plutoh28&quot;</td><td>null</td><td>null</td><td>null</td><td>2023-11-02 05:57:26</td><td>null</td><td>&quot;comment&quot;</td><td>null</td><td>38109436</td><td>&quot;It’s not deran…</td><td>null</td></tr><tr><td>38109494</td><td>null</td><td>&quot;mnot&quot;</td><td>0</td><td>null</td><td>2</td><td>2023-11-02 05:57:42</td><td>&quot;Last Chance to…</td><td>&quot;story&quot;</td><td>&quot;https://last-c…</td><td>null</td><td>null</td><td>null</td></tr><tr><td>38109495</td><td>null</td><td>&quot;pbnjay&quot;</td><td>null</td><td>null</td><td>null</td><td>2023-11-02 05:57:47</td><td>null</td><td>&quot;comment&quot;</td><td>null</td><td>38104681</td><td>&quot;I don&amp;#x27;t u…</td><td>null</td></tr><tr><td>38109496</td><td>null</td><td>&quot;canadianfella&quot;</td><td>null</td><td>null</td><td>null</td><td>2023-11-02 05:57:50</td><td>null</td><td>&quot;comment&quot;</td><td>null</td><td>38109359</td><td>&quot;[dead]&quot;</td><td>null</td></tr><tr><td>38109497</td><td>null</td><td>&quot;transpute&quot;</td><td>0</td><td>null</td><td>1</td><td>2023-11-02 05:57:50</td><td>&quot;Setting up a M…</td><td>&quot;story&quot;</td><td>&quot;https://www.je…</td><td>null</td><td>null</td><td>null</td></tr><tr><td>38109498</td><td>null</td><td>&quot;Jensson&quot;</td><td>null</td><td>null</td><td>null</td><td>2023-11-02 05:58:21</td><td>null</td><td>&quot;comment&quot;</td><td>null</td><td>38109103</td><td>&quot;Animals used t…</td><td>null</td></tr><tr><td>38109499</td><td>null</td><td>&quot;davchana&quot;</td><td>null</td><td>null</td><td>null</td><td>2023-11-02 05:58:31</td><td>null</td><td>&quot;comment&quot;</td><td>null</td><td>38101192</td><td>&quot;Yes, because h…</td><td>null</td></tr></tbody></table></div>"
      ],
      "text/plain": [
       "shape: (38_109_500, 13)\n",
       "┌──────────┬─────────┬─────────────┬─────────────┬───┬─────────────┬──────────┬─────────────┬──────┐\n",
       "│ id       ┆ deleted ┆ by          ┆ descendants ┆ … ┆ url         ┆ parent   ┆ text        ┆ dead │\n",
       "│ ---      ┆ ---     ┆ ---         ┆ ---         ┆   ┆ ---         ┆ ---      ┆ ---         ┆ ---  │\n",
       "│ i64      ┆ bool    ┆ str         ┆ i64         ┆   ┆ str         ┆ i64      ┆ str         ┆ bool │\n",
       "╞══════════╪═════════╪═════════════╪═════════════╪═══╪═════════════╪══════════╪═════════════╪══════╡\n",
       "│ 0        ┆ true    ┆ null        ┆ null        ┆ … ┆ null        ┆ null     ┆ null        ┆ null │\n",
       "│ 1        ┆ null    ┆ pg          ┆ 15          ┆ … ┆ http://ycom ┆ null     ┆ null        ┆ null │\n",
       "│          ┆         ┆             ┆             ┆   ┆ binator.com ┆          ┆             ┆      │\n",
       "│ 2        ┆ null    ┆ phyllis     ┆ 0           ┆ … ┆ http://www. ┆ null     ┆ null        ┆ null │\n",
       "│          ┆         ┆             ┆             ┆   ┆ paulgraham. ┆          ┆             ┆      │\n",
       "│          ┆         ┆             ┆             ┆   ┆ com/mit.ht… ┆          ┆             ┆      │\n",
       "│ 3        ┆ null    ┆ phyllis     ┆ 0           ┆ … ┆ http://www. ┆ null     ┆ null        ┆ null │\n",
       "│          ┆         ┆             ┆             ┆   ┆ foundersatw ┆          ┆             ┆      │\n",
       "│          ┆         ┆             ┆             ┆   ┆ ork.com/st… ┆          ┆             ┆      │\n",
       "│ …        ┆ …       ┆ …           ┆ …           ┆ … ┆ …           ┆ …        ┆ …           ┆ …    │\n",
       "│ 38109496 ┆ null    ┆ canadianfel ┆ null        ┆ … ┆ null        ┆ 38109359 ┆ [dead]      ┆ null │\n",
       "│          ┆         ┆ la          ┆             ┆   ┆             ┆          ┆             ┆      │\n",
       "│ 38109497 ┆ null    ┆ transpute   ┆ 0           ┆ … ┆ https://www ┆ null     ┆ null        ┆ null │\n",
       "│          ┆         ┆             ┆             ┆   ┆ .jeffgeerli ┆          ┆             ┆      │\n",
       "│          ┆         ┆             ┆             ┆   ┆ ng.com/blo… ┆          ┆             ┆      │\n",
       "│ 38109498 ┆ null    ┆ Jensson     ┆ null        ┆ … ┆ null        ┆ 38109103 ┆ Animals     ┆ null │\n",
       "│          ┆         ┆             ┆             ┆   ┆             ┆          ┆ used to the ┆      │\n",
       "│          ┆         ┆             ┆             ┆   ┆             ┆          ┆ winter      ┆      │\n",
       "│          ┆         ┆             ┆             ┆   ┆             ┆          ┆ survi…      ┆      │\n",
       "│ 38109499 ┆ null    ┆ davchana    ┆ null        ┆ … ┆ null        ┆ 38101192 ┆ Yes,        ┆ null │\n",
       "│          ┆         ┆             ┆             ┆   ┆             ┆          ┆ because he  ┆      │\n",
       "│          ┆         ┆             ┆             ┆   ┆             ┆          ┆ literally   ┆      │\n",
       "│          ┆         ┆             ┆             ┆   ┆             ┆          ┆ has th…     ┆      │\n",
       "└──────────┴─────────┴─────────────┴─────────────┴───┴─────────────┴──────────┴─────────────┴──────┘"
      ]
     },
     "execution_count": 2,
     "metadata": {},
     "output_type": "execute_result"
    }
   ],
   "source": [
    "# iterate over the dataset 5M rows at a time, since polars can't handle more than that much JSON at once.\n",
    "# https://github.com/pola-rs/polars/pull/11245\n",
    "\n",
    "structured = []\n",
    "batch_size = 5_000_000\n",
    "\n",
    "for start_index in range(0, len(df), batch_size):\n",
    "    print(start_index)\n",
    "    output = (\n",
    "        df.slice(start_index, batch_size)\n",
    "        .with_columns(pl.col(\"json\").str.json_extract())[[\"json\"]]\n",
    "        .unnest(\"json\")\n",
    "    )\n",
    "    structured.append(output)\n",
    "\n",
    "structured = pl.concat(structured, how=\"diagonal_relaxed\").with_columns(\n",
    "    pl.from_epoch(\"time\", time_unit=\"s\")\n",
    ")\n",
    "\n",
    "structured"
   ]
  },
  {
   "cell_type": "code",
   "execution_count": 6,
   "metadata": {},
   "outputs": [
    {
     "data": {
      "text/plain": [
       "{0: 0, 1: 1, 2: 2, 3: 3, 4: 4}"
      ]
     },
     "execution_count": 6,
     "metadata": {},
     "output_type": "execute_result"
    }
   ],
   "source": [
    "structured[[\"id\", \"parent\"]].with_columns(\n",
    "    pl.col(\"parent\").fill_null(pl.col(\"id\"))\n",
    ").head(5).to_pandas().set_index(\"id\", drop=True).to_dict()[\"parent\"]"
   ]
  },
  {
   "cell_type": "code",
   "execution_count": 7,
   "metadata": {},
   "outputs": [],
   "source": [
    "parent_map = (\n",
    "    structured[[\"id\", \"parent\"]]\n",
    "    .with_columns(pl.col(\"parent\").fill_null(pl.col(\"id\")))\n",
    "    .to_pandas()\n",
    "    .set_index(\"id\", drop=True)\n",
    "    .to_dict()[\"parent\"]\n",
    ")"
   ]
  },
  {
   "cell_type": "code",
   "execution_count": 8,
   "metadata": {},
   "outputs": [
    {
     "data": {
      "text/html": [
       "<div><style>\n",
       ".dataframe > thead > tr > th,\n",
       ".dataframe > tbody > tr > td {\n",
       "  text-align: right;\n",
       "  white-space: pre-wrap;\n",
       "}\n",
       "</style>\n",
       "<small>shape: (38_109_500, 14)</small><table border=\"1\" class=\"dataframe\"><thead><tr><th>id</th><th>type</th><th>by</th><th>time</th><th>title</th><th>text</th><th>url</th><th>score</th><th>parent</th><th>top_level_parent</th><th>descendants</th><th>kids</th><th>deleted</th><th>dead</th></tr><tr><td>i64</td><td>str</td><td>str</td><td>datetime[μs]</td><td>str</td><td>str</td><td>str</td><td>i64</td><td>i64</td><td>i64</td><td>i64</td><td>list[i64]</td><td>bool</td><td>bool</td></tr></thead><tbody><tr><td>0</td><td>null</td><td>null</td><td>null</td><td>null</td><td>null</td><td>null</td><td>null</td><td>null</td><td>0</td><td>null</td><td>null</td><td>true</td><td>null</td></tr><tr><td>1</td><td>&quot;story&quot;</td><td>&quot;pg&quot;</td><td>2006-10-09 18:21:51</td><td>&quot;Y Combinator&quot;</td><td>null</td><td>&quot;http://ycombin…</td><td>57</td><td>null</td><td>1</td><td>15</td><td>[15, 234509, … 82729]</td><td>null</td><td>null</td></tr><tr><td>2</td><td>&quot;story&quot;</td><td>&quot;phyllis&quot;</td><td>2006-10-09 18:30:28</td><td>&quot;A Student&#x27;s Gu…</td><td>null</td><td>&quot;http://www.pau…</td><td>16</td><td>null</td><td>2</td><td>0</td><td>null</td><td>null</td><td>null</td></tr><tr><td>3</td><td>&quot;story&quot;</td><td>&quot;phyllis&quot;</td><td>2006-10-09 18:40:33</td><td>&quot;Woz Interview:…</td><td>null</td><td>&quot;http://www.fou…</td><td>7</td><td>null</td><td>3</td><td>0</td><td>[531602]</td><td>null</td><td>null</td></tr><tr><td>4</td><td>&quot;story&quot;</td><td>&quot;onebeerdave&quot;</td><td>2006-10-09 18:47:42</td><td>&quot;NYC Developer …</td><td>null</td><td>&quot;http://avc.blo…</td><td>5</td><td>null</td><td>4</td><td>0</td><td>null</td><td>null</td><td>null</td></tr><tr><td>5</td><td>&quot;story&quot;</td><td>&quot;perler&quot;</td><td>2006-10-09 18:51:04</td><td>&quot;Google, YouTub…</td><td>null</td><td>&quot;http://www.tec…</td><td>7</td><td>null</td><td>5</td><td>0</td><td>null</td><td>null</td><td>null</td></tr><tr><td>6</td><td>&quot;story&quot;</td><td>&quot;perler&quot;</td><td>2006-10-09 18:56:40</td><td>&quot;Business Intel…</td><td>null</td><td>&quot;http://360tech…</td><td>4</td><td>null</td><td>6</td><td>0</td><td>null</td><td>null</td><td>null</td></tr><tr><td>7</td><td>&quot;story&quot;</td><td>&quot;phyllis&quot;</td><td>2006-10-09 19:00:55</td><td>&quot;Sevin Rosen Un…</td><td>null</td><td>&quot;http://feature…</td><td>5</td><td>null</td><td>7</td><td>0</td><td>null</td><td>null</td><td>null</td></tr><tr><td>8</td><td>&quot;story&quot;</td><td>&quot;frobnicate&quot;</td><td>2006-10-09 19:17:39</td><td>&quot;LikeBetter fea…</td><td>null</td><td>&quot;http://news.bb…</td><td>10</td><td>null</td><td>8</td><td>0</td><td>null</td><td>null</td><td>null</td></tr><tr><td>9</td><td>&quot;story&quot;</td><td>&quot;askjigga&quot;</td><td>2006-10-09 19:19:02</td><td>&quot;weekendr: soci…</td><td>null</td><td>&quot;http://www.wee…</td><td>4</td><td>null</td><td>9</td><td>0</td><td>null</td><td>null</td><td>null</td></tr><tr><td>10</td><td>&quot;story&quot;</td><td>&quot;frobnicate&quot;</td><td>2006-10-09 19:21:14</td><td>&quot;PhotoShow: Bro…</td><td>null</td><td>&quot;http://www.tec…</td><td>3</td><td>null</td><td>10</td><td>0</td><td>null</td><td>null</td><td>null</td></tr><tr><td>11</td><td>&quot;story&quot;</td><td>&quot;frobnicate&quot;</td><td>2006-10-09 19:24:44</td><td>&quot;Participation …</td><td>null</td><td>&quot;http://www.use…</td><td>5</td><td>null</td><td>11</td><td>0</td><td>null</td><td>null</td><td>null</td></tr><tr><td>&hellip;</td><td>&hellip;</td><td>&hellip;</td><td>&hellip;</td><td>&hellip;</td><td>&hellip;</td><td>&hellip;</td><td>&hellip;</td><td>&hellip;</td><td>&hellip;</td><td>&hellip;</td><td>&hellip;</td><td>&hellip;</td><td>&hellip;</td></tr><tr><td>38109488</td><td>&quot;comment&quot;</td><td>&quot;ryandrake&quot;</td><td>2023-11-02 05:56:46</td><td>null</td><td>&quot;I&amp;#x27;m the o…</td><td>null</td><td>null</td><td>38105952</td><td>38103733</td><td>null</td><td>null</td><td>null</td><td>null</td></tr><tr><td>38109489</td><td>&quot;comment&quot;</td><td>&quot;zaphirplane&quot;</td><td>2023-11-02 05:56:49</td><td>null</td><td>&quot;[delayed]&quot;</td><td>null</td><td>null</td><td>38087883</td><td>38084572</td><td>null</td><td>null</td><td>null</td><td>null</td></tr><tr><td>38109490</td><td>&quot;comment&quot;</td><td>&quot;rswail&quot;</td><td>2023-11-02 05:57:04</td><td>null</td><td>&quot;In HTML, you c…</td><td>null</td><td>null</td><td>38106221</td><td>38103310</td><td>null</td><td>null</td><td>null</td><td>null</td></tr><tr><td>38109491</td><td>&quot;comment&quot;</td><td>&quot;dotnet00&quot;</td><td>2023-11-02 05:57:10</td><td>null</td><td>&quot;Or it would cr…</td><td>null</td><td>null</td><td>38109464</td><td>38108873</td><td>null</td><td>null</td><td>null</td><td>null</td></tr><tr><td>38109492</td><td>&quot;comment&quot;</td><td>&quot;avindroth&quot;</td><td>2023-11-02 05:57:22</td><td>null</td><td>&quot;Sent an email.…</td><td>null</td><td>null</td><td>38109226</td><td>38099086</td><td>null</td><td>null</td><td>null</td><td>null</td></tr><tr><td>38109493</td><td>&quot;comment&quot;</td><td>&quot;plutoh28&quot;</td><td>2023-11-02 05:57:26</td><td>null</td><td>&quot;It’s not deran…</td><td>null</td><td>null</td><td>38109436</td><td>38107537</td><td>null</td><td>null</td><td>null</td><td>null</td></tr><tr><td>38109494</td><td>&quot;story&quot;</td><td>&quot;mnot&quot;</td><td>2023-11-02 05:57:42</td><td>&quot;Last Chance to…</td><td>null</td><td>&quot;https://last-c…</td><td>2</td><td>null</td><td>38109494</td><td>0</td><td>null</td><td>null</td><td>null</td></tr><tr><td>38109495</td><td>&quot;comment&quot;</td><td>&quot;pbnjay&quot;</td><td>2023-11-02 05:57:47</td><td>null</td><td>&quot;I don&amp;#x27;t u…</td><td>null</td><td>null</td><td>38104681</td><td>38099085</td><td>null</td><td>null</td><td>null</td><td>null</td></tr><tr><td>38109496</td><td>&quot;comment&quot;</td><td>&quot;canadianfella&quot;</td><td>2023-11-02 05:57:50</td><td>null</td><td>&quot;[dead]&quot;</td><td>null</td><td>null</td><td>38109359</td><td>38100284</td><td>null</td><td>null</td><td>null</td><td>null</td></tr><tr><td>38109497</td><td>&quot;story&quot;</td><td>&quot;transpute&quot;</td><td>2023-11-02 05:57:50</td><td>&quot;Setting up a M…</td><td>null</td><td>&quot;https://www.je…</td><td>1</td><td>null</td><td>38109497</td><td>0</td><td>null</td><td>null</td><td>null</td></tr><tr><td>38109498</td><td>&quot;comment&quot;</td><td>&quot;Jensson&quot;</td><td>2023-11-02 05:58:21</td><td>null</td><td>&quot;Animals used t…</td><td>null</td><td>null</td><td>38109103</td><td>38106461</td><td>null</td><td>null</td><td>null</td><td>null</td></tr><tr><td>38109499</td><td>&quot;comment&quot;</td><td>&quot;davchana&quot;</td><td>2023-11-02 05:58:31</td><td>null</td><td>&quot;Yes, because h…</td><td>null</td><td>null</td><td>38101192</td><td>38100284</td><td>null</td><td>null</td><td>null</td><td>null</td></tr></tbody></table></div>"
      ],
      "text/plain": [
       "shape: (38_109_500, 14)\n",
       "┌──────────┬─────────┬──────────────┬─────────────┬───┬─────────────┬─────────────┬─────────┬──────┐\n",
       "│ id       ┆ type    ┆ by           ┆ time        ┆ … ┆ descendants ┆ kids        ┆ deleted ┆ dead │\n",
       "│ ---      ┆ ---     ┆ ---          ┆ ---         ┆   ┆ ---         ┆ ---         ┆ ---     ┆ ---  │\n",
       "│ i64      ┆ str     ┆ str          ┆ datetime[μs ┆   ┆ i64         ┆ list[i64]   ┆ bool    ┆ bool │\n",
       "│          ┆         ┆              ┆ ]           ┆   ┆             ┆             ┆         ┆      │\n",
       "╞══════════╪═════════╪══════════════╪═════════════╪═══╪═════════════╪═════════════╪═════════╪══════╡\n",
       "│ 0        ┆ null    ┆ null         ┆ null        ┆ … ┆ null        ┆ null        ┆ true    ┆ null │\n",
       "│ 1        ┆ story   ┆ pg           ┆ 2006-10-09  ┆ … ┆ 15          ┆ [15,        ┆ null    ┆ null │\n",
       "│          ┆         ┆              ┆ 18:21:51    ┆   ┆             ┆ 234509, …   ┆         ┆      │\n",
       "│          ┆         ┆              ┆             ┆   ┆             ┆ 82729]      ┆         ┆      │\n",
       "│ 2        ┆ story   ┆ phyllis      ┆ 2006-10-09  ┆ … ┆ 0           ┆ null        ┆ null    ┆ null │\n",
       "│          ┆         ┆              ┆ 18:30:28    ┆   ┆             ┆             ┆         ┆      │\n",
       "│ 3        ┆ story   ┆ phyllis      ┆ 2006-10-09  ┆ … ┆ 0           ┆ [531602]    ┆ null    ┆ null │\n",
       "│          ┆         ┆              ┆ 18:40:33    ┆   ┆             ┆             ┆         ┆      │\n",
       "│ …        ┆ …       ┆ …            ┆ …           ┆ … ┆ …           ┆ …           ┆ …       ┆ …    │\n",
       "│ 38109496 ┆ comment ┆ canadianfell ┆ 2023-11-02  ┆ … ┆ null        ┆ null        ┆ null    ┆ null │\n",
       "│          ┆         ┆ a            ┆ 05:57:50    ┆   ┆             ┆             ┆         ┆      │\n",
       "│ 38109497 ┆ story   ┆ transpute    ┆ 2023-11-02  ┆ … ┆ 0           ┆ null        ┆ null    ┆ null │\n",
       "│          ┆         ┆              ┆ 05:57:50    ┆   ┆             ┆             ┆         ┆      │\n",
       "│ 38109498 ┆ comment ┆ Jensson      ┆ 2023-11-02  ┆ … ┆ null        ┆ null        ┆ null    ┆ null │\n",
       "│          ┆         ┆              ┆ 05:58:21    ┆   ┆             ┆             ┆         ┆      │\n",
       "│ 38109499 ┆ comment ┆ davchana     ┆ 2023-11-02  ┆ … ┆ null        ┆ null        ┆ null    ┆ null │\n",
       "│          ┆         ┆              ┆ 05:58:31    ┆   ┆             ┆             ┆         ┆      │\n",
       "└──────────┴─────────┴──────────────┴─────────────┴───┴─────────────┴─────────────┴─────────┴──────┘"
      ]
     },
     "execution_count": 8,
     "metadata": {},
     "output_type": "execute_result"
    }
   ],
   "source": [
    "def find_top_level_parent(node_id: int) -> int:\n",
    "    if parent_map[node_id] == node_id:\n",
    "        return node_id\n",
    "    else:\n",
    "        top_level_parent = find_top_level_parent(parent_map[node_id])\n",
    "        parent_map[node_id] = top_level_parent  # Path compression\n",
    "        return top_level_parent\n",
    "\n",
    "\n",
    "structured = structured.with_columns(\n",
    "    pl.col(\"id\").map_elements(find_top_level_parent).alias(\"top_level_parent\")\n",
    ")[\n",
    "    [\n",
    "        \"id\",\n",
    "        \"type\",\n",
    "        \"by\",\n",
    "        \"time\",\n",
    "        \"title\",\n",
    "        \"text\",\n",
    "        \"url\",\n",
    "        \"score\",\n",
    "        \"parent\",\n",
    "        \"top_level_parent\",\n",
    "        \"descendants\",\n",
    "        \"kids\",\n",
    "        \"deleted\",\n",
    "        \"dead\",\n",
    "    ]\n",
    "]\n",
    "\n",
    "structured"
   ]
  },
  {
   "cell_type": "code",
   "execution_count": 10,
   "metadata": {},
   "outputs": [
    {
     "data": {
      "text/html": [
       "<div>\n",
       "<style scoped>\n",
       "    .dataframe tbody tr th:only-of-type {\n",
       "        vertical-align: middle;\n",
       "    }\n",
       "\n",
       "    .dataframe tbody tr th {\n",
       "        vertical-align: top;\n",
       "    }\n",
       "\n",
       "    .dataframe thead th {\n",
       "        text-align: right;\n",
       "    }\n",
       "</style>\n",
       "<table border=\"1\" class=\"dataframe\">\n",
       "  <thead>\n",
       "    <tr style=\"text-align: right;\">\n",
       "      <th></th>\n",
       "      <th>id</th>\n",
       "      <th>type</th>\n",
       "      <th>by</th>\n",
       "      <th>time</th>\n",
       "      <th>title</th>\n",
       "      <th>text</th>\n",
       "      <th>url</th>\n",
       "      <th>score</th>\n",
       "      <th>parent</th>\n",
       "      <th>top_level_parent</th>\n",
       "      <th>descendants</th>\n",
       "      <th>kids</th>\n",
       "      <th>deleted</th>\n",
       "      <th>dead</th>\n",
       "    </tr>\n",
       "  </thead>\n",
       "  <tbody>\n",
       "    <tr>\n",
       "      <th>0</th>\n",
       "      <td>0</td>\n",
       "      <td>None</td>\n",
       "      <td>None</td>\n",
       "      <td>NaT</td>\n",
       "      <td>None</td>\n",
       "      <td>None</td>\n",
       "      <td>None</td>\n",
       "      <td>NaN</td>\n",
       "      <td>NaN</td>\n",
       "      <td>0</td>\n",
       "      <td>NaN</td>\n",
       "      <td>None</td>\n",
       "      <td>True</td>\n",
       "      <td>None</td>\n",
       "    </tr>\n",
       "    <tr>\n",
       "      <th>1</th>\n",
       "      <td>1</td>\n",
       "      <td>story</td>\n",
       "      <td>pg</td>\n",
       "      <td>2006-10-09 18:21:51</td>\n",
       "      <td>Y Combinator</td>\n",
       "      <td>None</td>\n",
       "      <td>http://ycombinator.com</td>\n",
       "      <td>57.0</td>\n",
       "      <td>NaN</td>\n",
       "      <td>1</td>\n",
       "      <td>15.0</td>\n",
       "      <td>[15, 234509, 487171, 82729]</td>\n",
       "      <td>None</td>\n",
       "      <td>None</td>\n",
       "    </tr>\n",
       "    <tr>\n",
       "      <th>2</th>\n",
       "      <td>2</td>\n",
       "      <td>story</td>\n",
       "      <td>phyllis</td>\n",
       "      <td>2006-10-09 18:30:28</td>\n",
       "      <td>A Student's Guide to Startups</td>\n",
       "      <td>None</td>\n",
       "      <td>http://www.paulgraham.com/mit.html</td>\n",
       "      <td>16.0</td>\n",
       "      <td>NaN</td>\n",
       "      <td>2</td>\n",
       "      <td>0.0</td>\n",
       "      <td>None</td>\n",
       "      <td>None</td>\n",
       "      <td>None</td>\n",
       "    </tr>\n",
       "    <tr>\n",
       "      <th>3</th>\n",
       "      <td>3</td>\n",
       "      <td>story</td>\n",
       "      <td>phyllis</td>\n",
       "      <td>2006-10-09 18:40:33</td>\n",
       "      <td>Woz Interview: the early days of Apple</td>\n",
       "      <td>None</td>\n",
       "      <td>http://www.foundersatwork.com/stevewozniak.html</td>\n",
       "      <td>7.0</td>\n",
       "      <td>NaN</td>\n",
       "      <td>3</td>\n",
       "      <td>0.0</td>\n",
       "      <td>[531602]</td>\n",
       "      <td>None</td>\n",
       "      <td>None</td>\n",
       "    </tr>\n",
       "    <tr>\n",
       "      <th>4</th>\n",
       "      <td>4</td>\n",
       "      <td>story</td>\n",
       "      <td>onebeerdave</td>\n",
       "      <td>2006-10-09 18:47:42</td>\n",
       "      <td>NYC Developer Dilemma</td>\n",
       "      <td>None</td>\n",
       "      <td>http://avc.blogs.com/a_vc/2006/10/the_nyc_deve...</td>\n",
       "      <td>5.0</td>\n",
       "      <td>NaN</td>\n",
       "      <td>4</td>\n",
       "      <td>0.0</td>\n",
       "      <td>None</td>\n",
       "      <td>None</td>\n",
       "      <td>None</td>\n",
       "    </tr>\n",
       "    <tr>\n",
       "      <th>...</th>\n",
       "      <td>...</td>\n",
       "      <td>...</td>\n",
       "      <td>...</td>\n",
       "      <td>...</td>\n",
       "      <td>...</td>\n",
       "      <td>...</td>\n",
       "      <td>...</td>\n",
       "      <td>...</td>\n",
       "      <td>...</td>\n",
       "      <td>...</td>\n",
       "      <td>...</td>\n",
       "      <td>...</td>\n",
       "      <td>...</td>\n",
       "      <td>...</td>\n",
       "    </tr>\n",
       "    <tr>\n",
       "      <th>38109495</th>\n",
       "      <td>38109495</td>\n",
       "      <td>comment</td>\n",
       "      <td>pbnjay</td>\n",
       "      <td>2023-11-02 05:57:47</td>\n",
       "      <td>None</td>\n",
       "      <td>I don&amp;#x27;t understand that copyright line if...</td>\n",
       "      <td>None</td>\n",
       "      <td>NaN</td>\n",
       "      <td>38104681.0</td>\n",
       "      <td>38099085</td>\n",
       "      <td>NaN</td>\n",
       "      <td>None</td>\n",
       "      <td>None</td>\n",
       "      <td>None</td>\n",
       "    </tr>\n",
       "    <tr>\n",
       "      <th>38109496</th>\n",
       "      <td>38109496</td>\n",
       "      <td>comment</td>\n",
       "      <td>canadianfella</td>\n",
       "      <td>2023-11-02 05:57:50</td>\n",
       "      <td>None</td>\n",
       "      <td>[dead]</td>\n",
       "      <td>None</td>\n",
       "      <td>NaN</td>\n",
       "      <td>38109359.0</td>\n",
       "      <td>38100284</td>\n",
       "      <td>NaN</td>\n",
       "      <td>None</td>\n",
       "      <td>None</td>\n",
       "      <td>None</td>\n",
       "    </tr>\n",
       "    <tr>\n",
       "      <th>38109497</th>\n",
       "      <td>38109497</td>\n",
       "      <td>story</td>\n",
       "      <td>transpute</td>\n",
       "      <td>2023-11-02 05:57:50</td>\n",
       "      <td>Setting up a MikroTik 10 Gbps Switch the first...</td>\n",
       "      <td>None</td>\n",
       "      <td>https://www.jeffgeerling.com/blog/2023/setting...</td>\n",
       "      <td>1.0</td>\n",
       "      <td>NaN</td>\n",
       "      <td>38109497</td>\n",
       "      <td>0.0</td>\n",
       "      <td>None</td>\n",
       "      <td>None</td>\n",
       "      <td>None</td>\n",
       "    </tr>\n",
       "    <tr>\n",
       "      <th>38109498</th>\n",
       "      <td>38109498</td>\n",
       "      <td>comment</td>\n",
       "      <td>Jensson</td>\n",
       "      <td>2023-11-02 05:58:21</td>\n",
       "      <td>None</td>\n",
       "      <td>Animals used to the winter survives being wet,...</td>\n",
       "      <td>None</td>\n",
       "      <td>NaN</td>\n",
       "      <td>38109103.0</td>\n",
       "      <td>38106461</td>\n",
       "      <td>NaN</td>\n",
       "      <td>None</td>\n",
       "      <td>None</td>\n",
       "      <td>None</td>\n",
       "    </tr>\n",
       "    <tr>\n",
       "      <th>38109499</th>\n",
       "      <td>38109499</td>\n",
       "      <td>comment</td>\n",
       "      <td>davchana</td>\n",
       "      <td>2023-11-02 05:58:31</td>\n",
       "      <td>None</td>\n",
       "      <td>Yes, because he literally has the word Nissan ...</td>\n",
       "      <td>None</td>\n",
       "      <td>NaN</td>\n",
       "      <td>38101192.0</td>\n",
       "      <td>38100284</td>\n",
       "      <td>NaN</td>\n",
       "      <td>None</td>\n",
       "      <td>None</td>\n",
       "      <td>None</td>\n",
       "    </tr>\n",
       "  </tbody>\n",
       "</table>\n",
       "<p>38109500 rows × 14 columns</p>\n",
       "</div>"
      ],
      "text/plain": [
       "                id     type             by                time  \\\n",
       "0                0     None           None                 NaT   \n",
       "1                1    story             pg 2006-10-09 18:21:51   \n",
       "2                2    story        phyllis 2006-10-09 18:30:28   \n",
       "3                3    story        phyllis 2006-10-09 18:40:33   \n",
       "4                4    story    onebeerdave 2006-10-09 18:47:42   \n",
       "...            ...      ...            ...                 ...   \n",
       "38109495  38109495  comment         pbnjay 2023-11-02 05:57:47   \n",
       "38109496  38109496  comment  canadianfella 2023-11-02 05:57:50   \n",
       "38109497  38109497    story      transpute 2023-11-02 05:57:50   \n",
       "38109498  38109498  comment        Jensson 2023-11-02 05:58:21   \n",
       "38109499  38109499  comment       davchana 2023-11-02 05:58:31   \n",
       "\n",
       "                                                      title  \\\n",
       "0                                                      None   \n",
       "1                                              Y Combinator   \n",
       "2                             A Student's Guide to Startups   \n",
       "3                    Woz Interview: the early days of Apple   \n",
       "4                                     NYC Developer Dilemma   \n",
       "...                                                     ...   \n",
       "38109495                                               None   \n",
       "38109496                                               None   \n",
       "38109497  Setting up a MikroTik 10 Gbps Switch the first...   \n",
       "38109498                                               None   \n",
       "38109499                                               None   \n",
       "\n",
       "                                                       text  \\\n",
       "0                                                      None   \n",
       "1                                                      None   \n",
       "2                                                      None   \n",
       "3                                                      None   \n",
       "4                                                      None   \n",
       "...                                                     ...   \n",
       "38109495  I don&#x27;t understand that copyright line if...   \n",
       "38109496                                             [dead]   \n",
       "38109497                                               None   \n",
       "38109498  Animals used to the winter survives being wet,...   \n",
       "38109499  Yes, because he literally has the word Nissan ...   \n",
       "\n",
       "                                                        url  score  \\\n",
       "0                                                      None    NaN   \n",
       "1                                    http://ycombinator.com   57.0   \n",
       "2                        http://www.paulgraham.com/mit.html   16.0   \n",
       "3           http://www.foundersatwork.com/stevewozniak.html    7.0   \n",
       "4         http://avc.blogs.com/a_vc/2006/10/the_nyc_deve...    5.0   \n",
       "...                                                     ...    ...   \n",
       "38109495                                               None    NaN   \n",
       "38109496                                               None    NaN   \n",
       "38109497  https://www.jeffgeerling.com/blog/2023/setting...    1.0   \n",
       "38109498                                               None    NaN   \n",
       "38109499                                               None    NaN   \n",
       "\n",
       "              parent  top_level_parent  descendants  \\\n",
       "0                NaN                 0          NaN   \n",
       "1                NaN                 1         15.0   \n",
       "2                NaN                 2          0.0   \n",
       "3                NaN                 3          0.0   \n",
       "4                NaN                 4          0.0   \n",
       "...              ...               ...          ...   \n",
       "38109495  38104681.0          38099085          NaN   \n",
       "38109496  38109359.0          38100284          NaN   \n",
       "38109497         NaN          38109497          0.0   \n",
       "38109498  38109103.0          38106461          NaN   \n",
       "38109499  38101192.0          38100284          NaN   \n",
       "\n",
       "                                 kids deleted  dead  \n",
       "0                                None    True  None  \n",
       "1         [15, 234509, 487171, 82729]    None  None  \n",
       "2                                None    None  None  \n",
       "3                            [531602]    None  None  \n",
       "4                                None    None  None  \n",
       "...                               ...     ...   ...  \n",
       "38109495                         None    None  None  \n",
       "38109496                         None    None  None  \n",
       "38109497                         None    None  None  \n",
       "38109498                         None    None  None  \n",
       "38109499                         None    None  None  \n",
       "\n",
       "[38109500 rows x 14 columns]"
      ]
     },
     "execution_count": 10,
     "metadata": {},
     "output_type": "execute_result"
    }
   ],
   "source": [
    "to_push = structured.to_pandas()\n",
    "\n",
    "to_push"
   ]
  },
  {
   "cell_type": "code",
   "execution_count": 12,
   "metadata": {},
   "outputs": [
    {
     "data": {
      "application/vnd.jupyter.widget-view+json": {
       "model_id": "0859502ed27141cda7b5ea2f496651d4",
       "version_major": 2,
       "version_minor": 0
      },
      "text/plain": [
       "Pushing dataset shards to the dataset hub:   0%|          | 0/34 [00:00<?, ?it/s]"
      ]
     },
     "metadata": {},
     "output_type": "display_data"
    },
    {
     "data": {
      "application/vnd.jupyter.widget-view+json": {
       "model_id": "895bceabe72848cf8957bceb113b5b30",
       "version_major": 2,
       "version_minor": 0
      },
      "text/plain": [
       "Creating parquet from Arrow format:   0%|          | 0/1121 [00:00<?, ?ba/s]"
      ]
     },
     "metadata": {},
     "output_type": "display_data"
    },
    {
     "data": {
      "application/vnd.jupyter.widget-view+json": {
       "model_id": "f711b4b5643749d69b253aef1808bab6",
       "version_major": 2,
       "version_minor": 0
      },
      "text/plain": [
       "Creating parquet from Arrow format:   0%|          | 0/1121 [00:00<?, ?ba/s]"
      ]
     },
     "metadata": {},
     "output_type": "display_data"
    },
    {
     "data": {
      "application/vnd.jupyter.widget-view+json": {
       "model_id": "cb910de550674f008707094b5289d4f9",
       "version_major": 2,
       "version_minor": 0
      },
      "text/plain": [
       "Creating parquet from Arrow format:   0%|          | 0/1121 [00:00<?, ?ba/s]"
      ]
     },
     "metadata": {},
     "output_type": "display_data"
    },
    {
     "data": {
      "application/vnd.jupyter.widget-view+json": {
       "model_id": "419a6298da6241ad9c848f3eac30583d",
       "version_major": 2,
       "version_minor": 0
      },
      "text/plain": [
       "Creating parquet from Arrow format:   0%|          | 0/1121 [00:00<?, ?ba/s]"
      ]
     },
     "metadata": {},
     "output_type": "display_data"
    },
    {
     "data": {
      "application/vnd.jupyter.widget-view+json": {
       "model_id": "1901a1f7a5ca428a83efeeaae0dbca1b",
       "version_major": 2,
       "version_minor": 0
      },
      "text/plain": [
       "Creating parquet from Arrow format:   0%|          | 0/1121 [00:00<?, ?ba/s]"
      ]
     },
     "metadata": {},
     "output_type": "display_data"
    },
    {
     "data": {
      "application/vnd.jupyter.widget-view+json": {
       "model_id": "93aa19ce0d4f4992852a8bbedfa8d5b5",
       "version_major": 2,
       "version_minor": 0
      },
      "text/plain": [
       "Creating parquet from Arrow format:   0%|          | 0/1121 [00:00<?, ?ba/s]"
      ]
     },
     "metadata": {},
     "output_type": "display_data"
    },
    {
     "data": {
      "application/vnd.jupyter.widget-view+json": {
       "model_id": "00956ccb53f7437aa62436fc1c280178",
       "version_major": 2,
       "version_minor": 0
      },
      "text/plain": [
       "Creating parquet from Arrow format:   0%|          | 0/1121 [00:00<?, ?ba/s]"
      ]
     },
     "metadata": {},
     "output_type": "display_data"
    },
    {
     "data": {
      "application/vnd.jupyter.widget-view+json": {
       "model_id": "994500a8109749f182cd15fd87e0d6c5",
       "version_major": 2,
       "version_minor": 0
      },
      "text/plain": [
       "Creating parquet from Arrow format:   0%|          | 0/1121 [00:00<?, ?ba/s]"
      ]
     },
     "metadata": {},
     "output_type": "display_data"
    },
    {
     "data": {
      "application/vnd.jupyter.widget-view+json": {
       "model_id": "17341a7b3a524806ba6abf2e2ce37fcb",
       "version_major": 2,
       "version_minor": 0
      },
      "text/plain": [
       "Creating parquet from Arrow format:   0%|          | 0/1121 [00:00<?, ?ba/s]"
      ]
     },
     "metadata": {},
     "output_type": "display_data"
    },
    {
     "data": {
      "application/vnd.jupyter.widget-view+json": {
       "model_id": "c9305c6c8e5a43f8ba280a8c671a7bd8",
       "version_major": 2,
       "version_minor": 0
      },
      "text/plain": [
       "Creating parquet from Arrow format:   0%|          | 0/1121 [00:00<?, ?ba/s]"
      ]
     },
     "metadata": {},
     "output_type": "display_data"
    },
    {
     "data": {
      "application/vnd.jupyter.widget-view+json": {
       "model_id": "e0664d35bd2c4124bf697f58275afd76",
       "version_major": 2,
       "version_minor": 0
      },
      "text/plain": [
       "Creating parquet from Arrow format:   0%|          | 0/1121 [00:00<?, ?ba/s]"
      ]
     },
     "metadata": {},
     "output_type": "display_data"
    },
    {
     "data": {
      "application/vnd.jupyter.widget-view+json": {
       "model_id": "1ccd0033f9b44830b67a451999765c25",
       "version_major": 2,
       "version_minor": 0
      },
      "text/plain": [
       "Creating parquet from Arrow format:   0%|          | 0/1121 [00:00<?, ?ba/s]"
      ]
     },
     "metadata": {},
     "output_type": "display_data"
    },
    {
     "data": {
      "application/vnd.jupyter.widget-view+json": {
       "model_id": "18f802e4e76141d0a1f8c46a63a74c2c",
       "version_major": 2,
       "version_minor": 0
      },
      "text/plain": [
       "Creating parquet from Arrow format:   0%|          | 0/1121 [00:00<?, ?ba/s]"
      ]
     },
     "metadata": {},
     "output_type": "display_data"
    },
    {
     "data": {
      "application/vnd.jupyter.widget-view+json": {
       "model_id": "0cdc6b8110ef444cba92b33d364bb6a5",
       "version_major": 2,
       "version_minor": 0
      },
      "text/plain": [
       "Creating parquet from Arrow format:   0%|          | 0/1121 [00:00<?, ?ba/s]"
      ]
     },
     "metadata": {},
     "output_type": "display_data"
    },
    {
     "data": {
      "application/vnd.jupyter.widget-view+json": {
       "model_id": "a0ca91aa107948f0a74b2d168bfb73ef",
       "version_major": 2,
       "version_minor": 0
      },
      "text/plain": [
       "Creating parquet from Arrow format:   0%|          | 0/1121 [00:00<?, ?ba/s]"
      ]
     },
     "metadata": {},
     "output_type": "display_data"
    },
    {
     "data": {
      "application/vnd.jupyter.widget-view+json": {
       "model_id": "2d1ecf764f984a50b0480330e6a8ebca",
       "version_major": 2,
       "version_minor": 0
      },
      "text/plain": [
       "Creating parquet from Arrow format:   0%|          | 0/1121 [00:00<?, ?ba/s]"
      ]
     },
     "metadata": {},
     "output_type": "display_data"
    },
    {
     "data": {
      "application/vnd.jupyter.widget-view+json": {
       "model_id": "4bc1e841de614171a705a980e0d1c159",
       "version_major": 2,
       "version_minor": 0
      },
      "text/plain": [
       "Creating parquet from Arrow format:   0%|          | 0/1121 [00:00<?, ?ba/s]"
      ]
     },
     "metadata": {},
     "output_type": "display_data"
    },
    {
     "data": {
      "application/vnd.jupyter.widget-view+json": {
       "model_id": "8481603b64d74475b155e4861ec11e84",
       "version_major": 2,
       "version_minor": 0
      },
      "text/plain": [
       "Creating parquet from Arrow format:   0%|          | 0/1121 [00:00<?, ?ba/s]"
      ]
     },
     "metadata": {},
     "output_type": "display_data"
    },
    {
     "data": {
      "application/vnd.jupyter.widget-view+json": {
       "model_id": "1bccd26835184eebb968277af05496ac",
       "version_major": 2,
       "version_minor": 0
      },
      "text/plain": [
       "Creating parquet from Arrow format:   0%|          | 0/1121 [00:00<?, ?ba/s]"
      ]
     },
     "metadata": {},
     "output_type": "display_data"
    },
    {
     "data": {
      "application/vnd.jupyter.widget-view+json": {
       "model_id": "5daaac49a7634fb7a8f55e27aae01241",
       "version_major": 2,
       "version_minor": 0
      },
      "text/plain": [
       "Creating parquet from Arrow format:   0%|          | 0/1121 [00:00<?, ?ba/s]"
      ]
     },
     "metadata": {},
     "output_type": "display_data"
    },
    {
     "data": {
      "application/vnd.jupyter.widget-view+json": {
       "model_id": "6f984ad3cbc64cec82ad0cf4d4fbe1b9",
       "version_major": 2,
       "version_minor": 0
      },
      "text/plain": [
       "Creating parquet from Arrow format:   0%|          | 0/1121 [00:00<?, ?ba/s]"
      ]
     },
     "metadata": {},
     "output_type": "display_data"
    },
    {
     "data": {
      "application/vnd.jupyter.widget-view+json": {
       "model_id": "3c3d8fec38954cb78ab5bd96bfb5ee80",
       "version_major": 2,
       "version_minor": 0
      },
      "text/plain": [
       "Creating parquet from Arrow format:   0%|          | 0/1121 [00:00<?, ?ba/s]"
      ]
     },
     "metadata": {},
     "output_type": "display_data"
    },
    {
     "data": {
      "application/vnd.jupyter.widget-view+json": {
       "model_id": "5940002191f64e2ca819352a0bc1a132",
       "version_major": 2,
       "version_minor": 0
      },
      "text/plain": [
       "Creating parquet from Arrow format:   0%|          | 0/1121 [00:00<?, ?ba/s]"
      ]
     },
     "metadata": {},
     "output_type": "display_data"
    },
    {
     "data": {
      "application/vnd.jupyter.widget-view+json": {
       "model_id": "5a6fa6d13b4b4817a0ae4c368be96154",
       "version_major": 2,
       "version_minor": 0
      },
      "text/plain": [
       "Creating parquet from Arrow format:   0%|          | 0/1121 [00:00<?, ?ba/s]"
      ]
     },
     "metadata": {},
     "output_type": "display_data"
    },
    {
     "data": {
      "application/vnd.jupyter.widget-view+json": {
       "model_id": "649e4cb2bb4c4bee90b4e06b9e603a8a",
       "version_major": 2,
       "version_minor": 0
      },
      "text/plain": [
       "Creating parquet from Arrow format:   0%|          | 0/1121 [00:00<?, ?ba/s]"
      ]
     },
     "metadata": {},
     "output_type": "display_data"
    },
    {
     "data": {
      "application/vnd.jupyter.widget-view+json": {
       "model_id": "b7a68e4af5854a4293b88375db04775a",
       "version_major": 2,
       "version_minor": 0
      },
      "text/plain": [
       "Creating parquet from Arrow format:   0%|          | 0/1121 [00:00<?, ?ba/s]"
      ]
     },
     "metadata": {},
     "output_type": "display_data"
    },
    {
     "data": {
      "application/vnd.jupyter.widget-view+json": {
       "model_id": "24b9362cd72e43deb5ddf2972adf0dd2",
       "version_major": 2,
       "version_minor": 0
      },
      "text/plain": [
       "Creating parquet from Arrow format:   0%|          | 0/1121 [00:00<?, ?ba/s]"
      ]
     },
     "metadata": {},
     "output_type": "display_data"
    },
    {
     "data": {
      "application/vnd.jupyter.widget-view+json": {
       "model_id": "e37c3f4d3d2c426989bc3649b948c0db",
       "version_major": 2,
       "version_minor": 0
      },
      "text/plain": [
       "Creating parquet from Arrow format:   0%|          | 0/1121 [00:00<?, ?ba/s]"
      ]
     },
     "metadata": {},
     "output_type": "display_data"
    },
    {
     "data": {
      "application/vnd.jupyter.widget-view+json": {
       "model_id": "643b7011893944edbede585f19419d20",
       "version_major": 2,
       "version_minor": 0
      },
      "text/plain": [
       "Creating parquet from Arrow format:   0%|          | 0/1121 [00:00<?, ?ba/s]"
      ]
     },
     "metadata": {},
     "output_type": "display_data"
    },
    {
     "data": {
      "application/vnd.jupyter.widget-view+json": {
       "model_id": "988566fd49de4eef8c996dc4373115e8",
       "version_major": 2,
       "version_minor": 0
      },
      "text/plain": [
       "Creating parquet from Arrow format:   0%|          | 0/1121 [00:00<?, ?ba/s]"
      ]
     },
     "metadata": {},
     "output_type": "display_data"
    },
    {
     "data": {
      "application/vnd.jupyter.widget-view+json": {
       "model_id": "01926e4750a743f1a8da611e098b03ea",
       "version_major": 2,
       "version_minor": 0
      },
      "text/plain": [
       "Creating parquet from Arrow format:   0%|          | 0/1121 [00:00<?, ?ba/s]"
      ]
     },
     "metadata": {},
     "output_type": "display_data"
    },
    {
     "data": {
      "application/vnd.jupyter.widget-view+json": {
       "model_id": "5df90dbce92a4774abd63c4d94f19d33",
       "version_major": 2,
       "version_minor": 0
      },
      "text/plain": [
       "Creating parquet from Arrow format:   0%|          | 0/1121 [00:00<?, ?ba/s]"
      ]
     },
     "metadata": {},
     "output_type": "display_data"
    },
    {
     "data": {
      "application/vnd.jupyter.widget-view+json": {
       "model_id": "993b4474957846239c3a6e4830263c1e",
       "version_major": 2,
       "version_minor": 0
      },
      "text/plain": [
       "Creating parquet from Arrow format:   0%|          | 0/1121 [00:00<?, ?ba/s]"
      ]
     },
     "metadata": {},
     "output_type": "display_data"
    },
    {
     "data": {
      "application/vnd.jupyter.widget-view+json": {
       "model_id": "7a60ef6936974f6397fffff73a416d6c",
       "version_major": 2,
       "version_minor": 0
      },
      "text/plain": [
       "Creating parquet from Arrow format:   0%|          | 0/1121 [00:00<?, ?ba/s]"
      ]
     },
     "metadata": {},
     "output_type": "display_data"
    },
    {
     "data": {
      "application/vnd.jupyter.widget-view+json": {
       "model_id": "dda469ae0a4d42c9a71ae7063c3ec1b3",
       "version_major": 2,
       "version_minor": 0
      },
      "text/plain": [
       "Deleting unused files from dataset repository:   0%|          | 0/34 [00:00<?, ?it/s]"
      ]
     },
     "metadata": {},
     "output_type": "display_data"
    },
    {
     "data": {
      "application/vnd.jupyter.widget-view+json": {
       "model_id": "4a131fb343a14c5e900268f578694404",
       "version_major": 2,
       "version_minor": 0
      },
      "text/plain": [
       "Downloading metadata:   0%|          | 0.00/858 [00:00<?, ?B/s]"
      ]
     },
     "metadata": {},
     "output_type": "display_data"
    }
   ],
   "source": [
    "import datasets as ds\n",
    "from dotenv import load_dotenv\n",
    "\n",
    "load_dotenv()\n",
    "\n",
    "ds = ds.Dataset.from_pandas(to_push)\n",
    "ds.push_to_hub(\"OpenPipe/hacker-news\")"
   ]
  }
 ],
 "metadata": {
  "kernelspec": {
   "display_name": "hn-analysis-9rBFKxKV-py3.10",
   "language": "python",
   "name": "python3"
  },
  "language_info": {
   "codemirror_mode": {
    "name": "ipython",
    "version": 3
   },
   "file_extension": ".py",
   "mimetype": "text/x-python",
   "name": "python",
   "nbconvert_exporter": "python",
   "pygments_lexer": "ipython3",
   "version": "3.10.12"
  }
 },
 "nbformat": 4,
 "nbformat_minor": 2
}
